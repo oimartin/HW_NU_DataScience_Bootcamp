{
 "cells": [
  {
   "cell_type": "code",
   "execution_count": 1,
   "metadata": {},
   "outputs": [],
   "source": [
    "# Create code to answer each of the following questions.\n",
    "# Hint: You will need multiple target URLs and multiple API requests.\n",
    "\n",
    "# Dependencies\n",
    "import requests\n",
    "import json\n",
    "\n",
    "# Retrieve Google API key from config.py\n",
    "from config import gkey\n",
    "\n",
    "base_url = 'https://maps.googleapis.com/maps/api/geocode/json?'\n"
   ]
  },
  {
   "cell_type": "code",
   "execution_count": 2,
   "metadata": {},
   "outputs": [
    {
     "name": "stdout",
     "output_type": "stream",
     "text": [
      "\n",
      "    City: Seattle, Washington\n",
      "    Latitude: 47.6062095\n",
      "    Longitude: -122.3320708\n",
      "    \n"
     ]
    }
   ],
   "source": [
    "# 1. What are the geocoordinates (latitude/longitude) of Seattle, Washington?\n",
    "target_city = \"Seattle, Washington\"\n",
    "\n",
    "target_url = base_url + 'address={0}&key={1}'.format(target_city, gkey)\n",
    "\n",
    "# Request to endpoint and convert result to json\n",
    "geo_data_1 = requests.get(target_url).json()\n",
    " \n",
    "# Extract latitude and longitude for Seattle\n",
    "seattle_lat = geo_data_1[\"results\"][0][\"geometry\"][\"location\"][\"lat\"]\n",
    "seattle_lng = geo_data_1[\"results\"][0][\"geometry\"][\"location\"][\"lng\"]\n",
    "\n",
    "# Print latitude and longitude for Seattle\n",
    "print('''\n",
    "    City: {0}\n",
    "    Latitude: {1}\n",
    "    Longitude: {2}\n",
    "    '''.format(target_city, seattle_lat, seattle_lng))"
   ]
  },
  {
   "cell_type": "code",
   "execution_count": 3,
   "metadata": {},
   "outputs": [
    {
     "name": "stdout",
     "output_type": "stream",
     "text": [
      "\n",
      "    City: The White House\n",
      "    Latitude: 38.8976763\n",
      "    Longitude: -77.0365298\n",
      "    \n"
     ]
    }
   ],
   "source": [
    "# 2. What are the geocoordinates (latitude/longitude) of The White House?\n",
    "target_place = \"The White House\"\n",
    "\n",
    "target_url = base_url + 'address={0}&key={1}'.format(target_place, gkey)\n",
    "\n",
    "# Request to endpoint and convert result to json\n",
    "geo_data_2 = requests.get(target_url).json()\n",
    " \n",
    "# Extract latitude and longitude for the White House\n",
    "white_house_lat = geo_data_2[\"results\"][0][\"geometry\"][\"location\"][\"lat\"]\n",
    "white_house_lng = geo_data_2[\"results\"][0][\"geometry\"][\"location\"][\"lng\"]\n",
    "\n",
    "# Print latitude and longitude for the White House\n",
    "print('''\n",
    "    City: {0}\n",
    "    Latitude: {1}\n",
    "    Longitude: {2}\n",
    "    '''.format(target_place, white_house_lat, white_house_lng))\n"
   ]
  },
  {
   "cell_type": "code",
   "execution_count": 4,
   "metadata": {},
   "outputs": [
    {
     "name": "stdout",
     "output_type": "stream",
     "text": [
      "REI\n",
      "222 Yale Avenue North, Seattle\n"
     ]
    }
   ],
   "source": [
    "# 3. Find the name and address of a bike store in Seattle, Washington.\n",
    "#    Hint: See https://developers.google.com/places/web-service/supported_types\n",
    "\n",
    "# Geocordinates\n",
    "target_coordinates = \"47.6062095, -122.3320708\"\n",
    "target_radius = 8000\n",
    "target_type = \"bicycle_store\"\n",
    "\n",
    "# Parameters dictionary for search\n",
    "params = {\n",
    "    \"location\": target_coordinates,\n",
    "    \"radius\": target_radius,\n",
    "    \"type\": target_type,\n",
    "    \"key\": gkey\n",
    "}\n",
    "\n",
    "# Base url -  nearby search\n",
    "nearby_base = \"https://maps.googleapis.com/maps/api/place/nearbysearch/json\"\n",
    "\n",
    "# Response of bike stores in a 8000 radius of Seattle, Washington\n",
    "bike_response = requests.get(nearby_base, params)\n",
    "\n",
    "# Convert response to json\n",
    "bike_store_data = bike_response.json()\n",
    "\n",
    "# Print name and address of the first bike shop that appears\n",
    "print(bike_store_data[\"results\"][0][\"name\"])\n",
    "print(bike_store_data[\"results\"][0][\"vicinity\"])\n"
   ]
  },
  {
   "cell_type": "code",
   "execution_count": 5,
   "metadata": {},
   "outputs": [
    {
     "name": "stdout",
     "output_type": "stream",
     "text": [
      "Total Party - Party, Costumes & Novelties\n",
      "1750 Crystal Drive #D-40, Arlington\n"
     ]
    }
   ],
   "source": [
    "# 4. Find a balloon store near the White House.\n",
    "# Geocordinates\n",
    "target_coordinates_2 = \"38.8976763, -77.0365298\"\n",
    "target_keyword_2 = \"balloon\"\n",
    "target_radius_2 = 8000\n",
    "target_type_2 = \"store\"\n",
    "\n",
    "# Parameters dictionary for search\n",
    "params = {\n",
    "    \"location\": target_coordinates_2,\n",
    "    \"keyword\": target_keyword_2,\n",
    "    \"radius\": target_radius_2,\n",
    "    \"type\": target_type_2,\n",
    "    \"key\": gkey\n",
    "}\n",
    "\n",
    "# Response of balloon stores in a 8000 radius of Seattle, Washington\n",
    "balloon_response = requests.get(nearby_base, params)\n",
    "\n",
    "# Convert response to json\n",
    "balloon_store_data = balloon_response.json()\n",
    "\n",
    "# Print name and address of the first store that sells balloons \n",
    "print(balloon_store_data[\"results\"][0][\"name\"])\n",
    "print(balloon_store_data[\"results\"][0][\"vicinity\"])"
   ]
  },
  {
   "cell_type": "code",
   "execution_count": 7,
   "metadata": {},
   "outputs": [
    {
     "name": "stdout",
     "output_type": "stream",
     "text": [
      "\n",
      "    City: Chicago, Illinois\n",
      "    Latitude: 41.8781136\n",
      "    Longitude: -87.6297982\n",
      "    \n"
     ]
    }
   ],
   "source": [
    "# 5. Find the nearest dentist to your house.\n",
    "#    Hint: Use Google Maps to find your latitude and Google Places to find the\n",
    "#    dentist. You will also need the rankby property.\n",
    "\n",
    "# Find and print coordinates of Chicago\n",
    "# Define new target city as Chicago\n",
    "target_city_2 = \"Chicago, Illinois\"\n",
    "\n",
    "# Create new target url for Chicago\n",
    "target_url_3 = base_url + 'address={0}&key={1}'.format(target_city_2, gkey)\n",
    "\n",
    "# Request to endpoint and convert result to json\n",
    "geo_data_3 = requests.get(target_url_3).json()\n",
    " \n",
    "# Extract latitude and longitude for Chicago\n",
    "chicago_lat = geo_data_3[\"results\"][0][\"geometry\"][\"location\"][\"lat\"]\n",
    "chicago_lng = geo_data_3[\"results\"][0][\"geometry\"][\"location\"][\"lng\"]\n",
    "\n",
    "# Print latitude and longitude for Chicago\n",
    "print('''\n",
    "    City: {0}\n",
    "    Latitude: {1}\n",
    "    Longitude: {2}\n",
    "    '''.format(target_city_2, chicago_lat, chicago_lng))\n"
   ]
  },
  {
   "cell_type": "code",
   "execution_count": 8,
   "metadata": {},
   "outputs": [
    {
     "name": "stdout",
     "output_type": "stream",
     "text": [
      "Smile Chicago - Sheldon Seidman, DDS\n",
      "400 North Michigan Avenue #1014, Chicago\n"
     ]
    }
   ],
   "source": [
    "# Find dentist near me in Chicago\n",
    "# Geocordinates\n",
    "target_coordinates_3 = \"41.8781136, -87.6297982\"\n",
    "target_radius_3 = 3000\n",
    "target_type_3 = \"dentist\"\n",
    "\n",
    "# Parameters dictionary for search\n",
    "params_2 = {\n",
    "    \"location\": target_coordinates_3,\n",
    "    \"radius\": target_radius_3,\n",
    "    \"type\": target_type_3,\n",
    "    \"key\": gkey\n",
    "}\n",
    "\n",
    "# Response of bike stores in a 8000 radius of Seattle, Washington\n",
    "dentist_response = requests.get(nearby_base, params_2)\n",
    "\n",
    "# Convert response to json\n",
    "dentist_data = dentist_response.json()\n",
    "\n",
    "# Print name and address of the first bike shop that appears\n",
    "print(dentist_data[\"results\"][0][\"name\"])\n",
    "print(dentist_data[\"results\"][0][\"vicinity\"])"
   ]
  },
  {
   "cell_type": "code",
   "execution_count": null,
   "metadata": {},
   "outputs": [],
   "source": [
    "# 6. Bonus: Find the names and addresses of the top five restaurants in your home city.\n",
    "#    Hint: Read about \"Text Search Results\"\n",
    "# (https://developers.google.com/places/web-service/search#TextSearchRequests)"
   ]
  }
 ],
 "metadata": {
  "kernelspec": {
   "display_name": "Python 3",
   "language": "python",
   "name": "python3"
  },
  "language_info": {
   "codemirror_mode": {
    "name": "ipython",
    "version": 3
   },
   "file_extension": ".py",
   "mimetype": "text/x-python",
   "name": "python",
   "nbconvert_exporter": "python",
   "pygments_lexer": "ipython3",
   "version": "3.7.0"
  }
 },
 "nbformat": 4,
 "nbformat_minor": 2
}
