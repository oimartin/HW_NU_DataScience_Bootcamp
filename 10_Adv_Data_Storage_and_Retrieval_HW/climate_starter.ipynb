{
 "cells": [
  {
   "cell_type": "code",
   "execution_count": 1,
   "metadata": {},
   "outputs": [],
   "source": [
    "%matplotlib inline\n",
    "from matplotlib import style\n",
    "style.use('fivethirtyeight')\n",
    "import matplotlib.pyplot as plt"
   ]
  },
  {
   "cell_type": "code",
   "execution_count": 2,
   "metadata": {},
   "outputs": [],
   "source": [
    "import numpy as np\n",
    "import pandas as pd"
   ]
  },
  {
   "cell_type": "code",
   "execution_count": 3,
   "metadata": {},
   "outputs": [],
   "source": [
    "import datetime as dt"
   ]
  },
  {
   "cell_type": "markdown",
   "metadata": {},
   "source": [
    "# Reflect Tables into SQLAlchemy ORM"
   ]
  },
  {
   "cell_type": "code",
   "execution_count": 4,
   "metadata": {},
   "outputs": [],
   "source": [
    "# Python SQL toolkit and Object Relational Mapper\n",
    "import sqlalchemy\n",
    "from sqlalchemy.ext.automap import automap_base\n",
    "from sqlalchemy.orm import Session\n",
    "from sqlalchemy import create_engine, func"
   ]
  },
  {
   "cell_type": "code",
   "execution_count": 5,
   "metadata": {},
   "outputs": [],
   "source": [
    "engine = create_engine(\"sqlite:///Resources/hawaii.sqlite\")"
   ]
  },
  {
   "cell_type": "code",
   "execution_count": 6,
   "metadata": {},
   "outputs": [],
   "source": [
    "# reflect an existing database into a new model\n",
    "Base = automap_base()\n",
    "# reflect the tables\n",
    "Base.prepare(engine, reflect=True)"
   ]
  },
  {
   "cell_type": "code",
   "execution_count": 7,
   "metadata": {},
   "outputs": [
    {
     "data": {
      "text/plain": [
       "['measurement', 'station']"
      ]
     },
     "execution_count": 7,
     "metadata": {},
     "output_type": "execute_result"
    }
   ],
   "source": [
    "# We can view all of the classes that automap found\n",
    "Base.classes.keys()"
   ]
  },
  {
   "cell_type": "code",
   "execution_count": 8,
   "metadata": {},
   "outputs": [],
   "source": [
    "# Save references to each table\n",
    "Measurement = Base.classes.measurement\n",
    "Station = Base.classes.station"
   ]
  },
  {
   "cell_type": "code",
   "execution_count": 9,
   "metadata": {},
   "outputs": [],
   "source": [
    "# Create our session (link) from Python to the DB\n",
    "session = Session(engine)"
   ]
  },
  {
   "cell_type": "markdown",
   "metadata": {},
   "source": [
    "# Exploratory Climate Analysis"
   ]
  },
  {
   "cell_type": "code",
   "execution_count": 10,
   "metadata": {},
   "outputs": [],
   "source": [
    "# Import 'inspect' dependency\n",
    "from sqlalchemy import inspect"
   ]
  },
  {
   "cell_type": "code",
   "execution_count": 11,
   "metadata": {},
   "outputs": [
    {
     "name": "stdout",
     "output_type": "stream",
     "text": [
      "id INTEGER\n",
      "station TEXT\n",
      "date TEXT\n",
      "prcp FLOAT\n",
      "tobs FLOAT\n"
     ]
    }
   ],
   "source": [
    "# Iterate through 'Measurement' table to\n",
    "# find names and types of columns\n",
    "columns = inspect(engine).get_columns('Measurement')\n",
    "for c in columns:\n",
    "    print(c['name'], c['type'])"
   ]
  },
  {
   "cell_type": "code",
   "execution_count": 12,
   "metadata": {},
   "outputs": [
    {
     "data": {
      "text/plain": [
       "[(1, 'USC00519397', '2010-01-01', 0.08, 65.0),\n",
       " (2, 'USC00519397', '2010-01-02', 0.0, 63.0),\n",
       " (3, 'USC00519397', '2010-01-03', 0.0, 74.0),\n",
       " (4, 'USC00519397', '2010-01-04', 0.0, 76.0),\n",
       " (5, 'USC00519397', '2010-01-06', None, 73.0),\n",
       " (6, 'USC00519397', '2010-01-07', 0.06, 70.0),\n",
       " (7, 'USC00519397', '2010-01-08', 0.0, 64.0)]"
      ]
     },
     "execution_count": 12,
     "metadata": {},
     "output_type": "execute_result"
    }
   ],
   "source": [
    "# Get an idea what data in 'Measurement' looks like\n",
    "engine.execute('SELECT * FROM Measurement LIMIT 7').fetchall()"
   ]
  },
  {
   "cell_type": "code",
   "execution_count": 13,
   "metadata": {},
   "outputs": [
    {
     "name": "stdout",
     "output_type": "stream",
     "text": [
      "Total entries in table is [(19550,)]\n"
     ]
    }
   ],
   "source": [
    "# Find total entries in 'Measurement'\n",
    "total_dates = session.query(func.count(Measurement.date)).all()\n",
    "print(f\"Total entries in table is {total_dates}\")"
   ]
  },
  {
   "cell_type": "code",
   "execution_count": 14,
   "metadata": {},
   "outputs": [
    {
     "data": {
      "text/plain": [
       "('2010-01-01')"
      ]
     },
     "execution_count": 14,
     "metadata": {},
     "output_type": "execute_result"
    }
   ],
   "source": [
    "# Oldest date in table 'Measurement'\n",
    "session.query(Measurement.date).order_by(Measurement.date.asc()).first()"
   ]
  },
  {
   "cell_type": "code",
   "execution_count": 15,
   "metadata": {},
   "outputs": [],
   "source": [
    "# Limit query to only dates from 2010-01-01 to 2011-1-01\n",
    "# in 'Measurement' table, include date and percipitation amount\n",
    "yr2010_date_prcp_results = session.query(Measurement.date, Measurement.prcp).\\\n",
    "                    filter(Measurement.date >= '2010-01-01').\\\n",
    "                    filter(Measurement.date <= '2011-01-01').\\\n",
    "                    order_by(Measurement.date).all()\n",
    "# need order_by(Measurement.date).all()??"
   ]
  },
  {
   "cell_type": "code",
   "execution_count": 16,
   "metadata": {},
   "outputs": [
    {
     "data": {
      "text/html": [
       "<div>\n",
       "<style scoped>\n",
       "    .dataframe tbody tr th:only-of-type {\n",
       "        vertical-align: middle;\n",
       "    }\n",
       "\n",
       "    .dataframe tbody tr th {\n",
       "        vertical-align: top;\n",
       "    }\n",
       "\n",
       "    .dataframe thead th {\n",
       "        text-align: right;\n",
       "    }\n",
       "</style>\n",
       "<table border=\"1\" class=\"dataframe\">\n",
       "  <thead>\n",
       "    <tr style=\"text-align: right;\">\n",
       "      <th></th>\n",
       "      <th>Date</th>\n",
       "      <th>Precipitation</th>\n",
       "    </tr>\n",
       "  </thead>\n",
       "  <tbody>\n",
       "    <tr>\n",
       "      <th>0</th>\n",
       "      <td>2010-01-01</td>\n",
       "      <td>0.08</td>\n",
       "    </tr>\n",
       "    <tr>\n",
       "      <th>1</th>\n",
       "      <td>2010-01-01</td>\n",
       "      <td>0.28</td>\n",
       "    </tr>\n",
       "    <tr>\n",
       "      <th>2</th>\n",
       "      <td>2010-01-01</td>\n",
       "      <td>0.21</td>\n",
       "    </tr>\n",
       "    <tr>\n",
       "      <th>3</th>\n",
       "      <td>2010-01-01</td>\n",
       "      <td>0.15</td>\n",
       "    </tr>\n",
       "    <tr>\n",
       "      <th>4</th>\n",
       "      <td>2010-01-01</td>\n",
       "      <td>0.15</td>\n",
       "    </tr>\n",
       "  </tbody>\n",
       "</table>\n",
       "</div>"
      ],
      "text/plain": [
       "         Date  Precipitation\n",
       "0  2010-01-01           0.08\n",
       "1  2010-01-01           0.28\n",
       "2  2010-01-01           0.21\n",
       "3  2010-01-01           0.15\n",
       "4  2010-01-01           0.15"
      ]
     },
     "execution_count": 16,
     "metadata": {},
     "output_type": "execute_result"
    }
   ],
   "source": [
    "# Create DataFrame out of yr2010_dat_prcp query\n",
    "df_yr2010_date_prcp = pd.DataFrame(yr2010_date_prcp_results[:], \n",
    "                                   columns=['Date', 'Precipitation'])\n",
    "df_yr2010_date_prcp.head()"
   ]
  },
  {
   "cell_type": "code",
   "execution_count": 17,
   "metadata": {
    "scrolled": true
   },
   "outputs": [
    {
     "data": {
      "text/html": [
       "<div>\n",
       "<style scoped>\n",
       "    .dataframe tbody tr th:only-of-type {\n",
       "        vertical-align: middle;\n",
       "    }\n",
       "\n",
       "    .dataframe tbody tr th {\n",
       "        vertical-align: top;\n",
       "    }\n",
       "\n",
       "    .dataframe thead th {\n",
       "        text-align: right;\n",
       "    }\n",
       "</style>\n",
       "<table border=\"1\" class=\"dataframe\">\n",
       "  <thead>\n",
       "    <tr style=\"text-align: right;\">\n",
       "      <th></th>\n",
       "      <th>Precipitation</th>\n",
       "    </tr>\n",
       "    <tr>\n",
       "      <th>Date</th>\n",
       "      <th></th>\n",
       "    </tr>\n",
       "  </thead>\n",
       "  <tbody>\n",
       "    <tr>\n",
       "      <th>2010-01-01</th>\n",
       "      <td>0.08</td>\n",
       "    </tr>\n",
       "    <tr>\n",
       "      <th>2010-01-01</th>\n",
       "      <td>0.28</td>\n",
       "    </tr>\n",
       "    <tr>\n",
       "      <th>2010-01-01</th>\n",
       "      <td>0.21</td>\n",
       "    </tr>\n",
       "    <tr>\n",
       "      <th>2010-01-01</th>\n",
       "      <td>0.15</td>\n",
       "    </tr>\n",
       "    <tr>\n",
       "      <th>2010-01-01</th>\n",
       "      <td>0.15</td>\n",
       "    </tr>\n",
       "  </tbody>\n",
       "</table>\n",
       "</div>"
      ],
      "text/plain": [
       "            Precipitation\n",
       "Date                     \n",
       "2010-01-01           0.08\n",
       "2010-01-01           0.28\n",
       "2010-01-01           0.21\n",
       "2010-01-01           0.15\n",
       "2010-01-01           0.15"
      ]
     },
     "execution_count": 17,
     "metadata": {},
     "output_type": "execute_result"
    }
   ],
   "source": [
    "# Set index of df_yr2010_date_prcp to 'Date'\n",
    "df_yr2010_date_prcp.set_index('Date', inplace=True)\n",
    "df_yr2010_date_prcp.head()"
   ]
  },
  {
   "cell_type": "code",
   "execution_count": 18,
   "metadata": {},
   "outputs": [
    {
     "data": {
      "image/png": "[encoded data removed]",
      "text/plain": [
       "<Figure size 432x288 with 1 Axes>"
      ]
     },
     "metadata": {
      "needs_background": "light"
     },
     "output_type": "display_data"
    }
   ],
   "source": [
    "# Plot df_yr2010_date_prcp\n",
    "df_yr2010_date_prcp.plot()\n",
    "plt.tight_layout()"
   ]
  },
  {
   "cell_type": "code",
   "execution_count": 19,
   "metadata": {},
   "outputs": [
    {
     "data": {
      "text/plain": [
       "count    2688.000000\n",
       "mean        0.138549\n",
       "std         0.411545\n",
       "min         0.000000\n",
       "25%         0.000000\n",
       "50%         0.010000\n",
       "75%         0.090000\n",
       "max         5.040000\n",
       "Name: Precipitation, dtype: float64"
      ]
     },
     "execution_count": 19,
     "metadata": {},
     "output_type": "execute_result"
    }
   ],
   "source": [
    "# Use Pandas to calcualte the summary statistics for the precipitation data\n",
    "df_yr2010_date_prcp['Precipitation'].describe()"
   ]
  },
  {
   "cell_type": "markdown",
   "metadata": {},
   "source": [
    "# Design a query to show how many stations are available in this dataset"
   ]
  },
  {
   "cell_type": "code",
   "execution_count": 20,
   "metadata": {},
   "outputs": [
    {
     "name": "stdout",
     "output_type": "stream",
     "text": [
      "id INTEGER\n",
      "station TEXT\n",
      "name TEXT\n",
      "latitude FLOAT\n",
      "longitude FLOAT\n",
      "elevation FLOAT\n"
     ]
    }
   ],
   "source": [
    "# Iterate through 'Station' table to\n",
    "# find names and types of columns\n",
    "columns = inspect(engine).get_columns('Station')\n",
    "for c in columns:\n",
    "    print(c['name'], c['type'])"
   ]
  },
  {
   "cell_type": "code",
   "execution_count": 21,
   "metadata": {},
   "outputs": [
    {
     "data": {
      "text/plain": [
       "[(1, 'USC00519397', 'WAIKIKI 717.2, HI US', 21.2716, -157.8168, 3.0),\n",
       " (2, 'USC00513117', 'KANEOHE 838.1, HI US', 21.4234, -157.8015, 14.6)]"
      ]
     },
     "execution_count": 21,
     "metadata": {},
     "output_type": "execute_result"
    }
   ],
   "source": [
    "# Get an idea what data in 'Station' looks like\n",
    "engine.execute('SELECT * FROM Station LIMIT 2').fetchall()"
   ]
  },
  {
   "cell_type": "code",
   "execution_count": 22,
   "metadata": {
    "scrolled": true
   },
   "outputs": [
    {
     "name": "stdout",
     "output_type": "stream",
     "text": [
      "Total entries in table is [(9,)]\n"
     ]
    }
   ],
   "source": [
    "# Find total entries in 'Station'\n",
    "total = session.query(func.count(Station.name)).all()\n",
    "print(f\"Total entries in table is {total}\")"
   ]
  },
  {
   "cell_type": "code",
   "execution_count": 23,
   "metadata": {},
   "outputs": [],
   "source": [
    "# # Limit query for station from 'Measurement' table\n",
    "# stations = session.query(Measurement.station)\n",
    "\n",
    "# # Create query for station and name from 'Station' table\n",
    "# station_name = session.query(Station.station, )"
   ]
  },
  {
   "cell_type": "markdown",
   "metadata": {},
   "source": [
    "# What are the most active stations? "
   ]
  },
  {
   "cell_type": "code",
   "execution_count": 24,
   "metadata": {},
   "outputs": [],
   "source": [
    "# Join 'Measurement' stats with name of stations from 'Station'\n",
    "names_stations = engine.execute('SELECT s.name, m.station, m.tobs, m.prcp\\\n",
    "                FROM Measurement as m\\\n",
    "                INNER JOIN Station as s\\\n",
    "                ON m.station = s.station;').fetchall()"
   ]
  },
  {
   "cell_type": "code",
   "execution_count": 25,
   "metadata": {},
   "outputs": [
    {
     "data": {
      "text/html": [
       "<div>\n",
       "<style scoped>\n",
       "    .dataframe tbody tr th:only-of-type {\n",
       "        vertical-align: middle;\n",
       "    }\n",
       "\n",
       "    .dataframe tbody tr th {\n",
       "        vertical-align: top;\n",
       "    }\n",
       "\n",
       "    .dataframe thead th {\n",
       "        text-align: right;\n",
       "    }\n",
       "</style>\n",
       "<table border=\"1\" class=\"dataframe\">\n",
       "  <thead>\n",
       "    <tr style=\"text-align: right;\">\n",
       "      <th></th>\n",
       "      <th>Total Readings</th>\n",
       "    </tr>\n",
       "    <tr>\n",
       "      <th>Station Name</th>\n",
       "      <th></th>\n",
       "    </tr>\n",
       "  </thead>\n",
       "  <tbody>\n",
       "    <tr>\n",
       "      <th>WAIHEE 837.5, HI US</th>\n",
       "      <td>2772</td>\n",
       "    </tr>\n",
       "    <tr>\n",
       "      <th>WAIKIKI 717.2, HI US</th>\n",
       "      <td>2724</td>\n",
       "    </tr>\n",
       "    <tr>\n",
       "      <th>KANEOHE 838.1, HI US</th>\n",
       "      <td>2709</td>\n",
       "    </tr>\n",
       "    <tr>\n",
       "      <th>WAIMANALO EXPERIMENTAL FARM, HI US</th>\n",
       "      <td>2669</td>\n",
       "    </tr>\n",
       "    <tr>\n",
       "      <th>MANOA LYON ARBO 785.2, HI US</th>\n",
       "      <td>2612</td>\n",
       "    </tr>\n",
       "    <tr>\n",
       "      <th>KUALOA RANCH HEADQUARTERS 886.9, HI US</th>\n",
       "      <td>2202</td>\n",
       "    </tr>\n",
       "    <tr>\n",
       "      <th>HONOLULU OBSERVATORY 702.2, HI US</th>\n",
       "      <td>1979</td>\n",
       "    </tr>\n",
       "    <tr>\n",
       "      <th>PEARL CITY, HI US</th>\n",
       "      <td>1372</td>\n",
       "    </tr>\n",
       "    <tr>\n",
       "      <th>UPPER WAHIAWA 874.3, HI US</th>\n",
       "      <td>511</td>\n",
       "    </tr>\n",
       "  </tbody>\n",
       "</table>\n",
       "</div>"
      ],
      "text/plain": [
       "                                        Total Readings\n",
       "Station Name                                          \n",
       "WAIHEE 837.5, HI US                               2772\n",
       "WAIKIKI 717.2, HI US                              2724\n",
       "KANEOHE 838.1, HI US                              2709\n",
       "WAIMANALO EXPERIMENTAL FARM, HI US                2669\n",
       "MANOA LYON ARBO 785.2, HI US                      2612\n",
       "KUALOA RANCH HEADQUARTERS 886.9, HI US            2202\n",
       "HONOLULU OBSERVATORY 702.2, HI US                 1979\n",
       "PEARL CITY, HI US                                 1372\n",
       "UPPER WAHIAWA 874.3, HI US                         511"
      ]
     },
     "execution_count": 25,
     "metadata": {},
     "output_type": "execute_result"
    }
   ],
   "source": [
    "# Create DataFrame out of yr2010_dat_prcp query\n",
    "station_readings = pd.DataFrame(names_stations[:], \n",
    "                                   columns=['Station Name', \n",
    "                                            'Total Readings',\n",
    "                                            'Avg Temperature',\n",
    "                                            'Total Rainfall'])\n",
    "\n",
    "# Group readings by 'Station Name' and sort by 'Total Readings'\n",
    "station_readings_grp = station_readings.groupby(['Station Name']).count().\\\n",
    "                        sort_values(by='Total Readings', ascending=False)\n",
    "\n",
    "# Drop 'Avg Temperature' and 'Total Rainfall' column\n",
    "station_readings_grp.drop(labels=['Avg Temperature', 'Total Rainfall'],\n",
    "                          axis=1, inplace=True)\n",
    "\n",
    "# Show grouped station readings DataFrame\n",
    "station_readings_grp\n"
   ]
  },
  {
   "cell_type": "markdown",
   "metadata": {},
   "source": [
    "# Lowest and Highst Temperature Recordings per Station"
   ]
  },
  {
   "cell_type": "code",
   "execution_count": 26,
   "metadata": {},
   "outputs": [],
   "source": [
    "# Using the station id from the previous query, calculate the lowest temperature recorded, \n",
    "# highest temperature recorded, and average temperature most active station?\n",
    "\n",
    "# Create query for from 'Measurement' for temperature and group by station\n",
    "temperature_all = session.query(Measurement.station, Measurement.tobs).all()"
   ]
  },
  {
   "cell_type": "code",
   "execution_count": 27,
   "metadata": {},
   "outputs": [
    {
     "name": "stdout",
     "output_type": "stream",
     "text": [
      "The lowest temperature, 53.0, was recoreded at USC00511918.\n"
     ]
    }
   ],
   "source": [
    "# Create pandas DataFrame from 'temperature_all'\n",
    "temperature_df = pd.DataFrame(temperature_all[:], columns=['Station Code', 'Temperature'])\n",
    "\n",
    "# Group by 'Station ID' to find min temperature\n",
    "# in ascending order\n",
    "min_temp_df = temperature_df.groupby('Station Code').min().sort_values(by='Temperature', ascending=True)\n",
    "\n",
    "# Reset index, so 'Station ID' becomes column\n",
    "min_temp_df.reset_index(inplace=True)\n",
    "\n",
    "# Chceck min_temp_df\n",
    "min_temp_df\n",
    "\n",
    "# Save min temp and station with min temp into separate variables\n",
    "min_temp = min_temp_df['Temperature'][0]\n",
    "min_temp_station = min_temp_df['Station Code'][0]\n",
    "\n",
    "\n",
    "# Print min temp and station with min temp\n",
    "print(f\"The lowest temperature, {min_temp}, was recoreded at {min_temp_station}.\")"
   ]
  },
  {
   "cell_type": "code",
   "execution_count": 28,
   "metadata": {},
   "outputs": [
    {
     "name": "stdout",
     "output_type": "stream",
     "text": [
      "The highest temperature, 87.0, was recoreded at USC00511918.\n"
     ]
    }
   ],
   "source": [
    "# Group by 'Station ID' to find max temperature\n",
    "# in descending order\n",
    "max_temp_df = temperature_df.groupby('Station Code').max().sort_values(by='Temperature', ascending=False)\n",
    "\n",
    "# Reset index, so 'Station ID' becomes column\n",
    "max_temp_df.reset_index(inplace=True)\n",
    "\n",
    "# Chceck min_temp_df\n",
    "max_temp_df\n",
    "\n",
    "# Save min temp and station with min temp into separate variables\n",
    "max_temp = max_temp_df['Temperature'][0]\n",
    "max_temp_station = max_temp_df['Station Code'][0]\n",
    "\n",
    "\n",
    "# Print min temp and station with min temp\n",
    "print(f\"The highest temperature, {max_temp}, was recoreded at {max_temp_station}.\")"
   ]
  },
  {
   "cell_type": "markdown",
   "metadata": {},
   "source": [
    "# Average Temperature for Most Active Station"
   ]
  },
  {
   "cell_type": "code",
   "execution_count": 29,
   "metadata": {},
   "outputs": [
    {
     "data": {
      "text/html": [
       "<div>\n",
       "<style scoped>\n",
       "    .dataframe tbody tr th:only-of-type {\n",
       "        vertical-align: middle;\n",
       "    }\n",
       "\n",
       "    .dataframe tbody tr th {\n",
       "        vertical-align: top;\n",
       "    }\n",
       "\n",
       "    .dataframe thead th {\n",
       "        text-align: right;\n",
       "    }\n",
       "</style>\n",
       "<table border=\"1\" class=\"dataframe\">\n",
       "  <thead>\n",
       "    <tr style=\"text-align: right;\">\n",
       "      <th></th>\n",
       "      <th>Station Code</th>\n",
       "      <th>Latitude</th>\n",
       "      <th>Longitude</th>\n",
       "      <th>Elevation</th>\n",
       "    </tr>\n",
       "    <tr>\n",
       "      <th>Station Name</th>\n",
       "      <th></th>\n",
       "      <th></th>\n",
       "      <th></th>\n",
       "      <th></th>\n",
       "    </tr>\n",
       "  </thead>\n",
       "  <tbody>\n",
       "    <tr>\n",
       "      <th>WAIKIKI 717.2, HI US</th>\n",
       "      <td>USC00519397</td>\n",
       "      <td>21.2716</td>\n",
       "      <td>-157.8168</td>\n",
       "      <td>3.0</td>\n",
       "    </tr>\n",
       "  </tbody>\n",
       "</table>\n",
       "</div>"
      ],
      "text/plain": [
       "                     Station Code  Latitude  Longitude  Elevation\n",
       "Station Name                                                     \n",
       "WAIKIKI 717.2, HI US  USC00519397   21.2716  -157.8168        3.0"
      ]
     },
     "execution_count": 29,
     "metadata": {},
     "output_type": "execute_result"
    }
   ],
   "source": [
    "# Select station name and station code from 'Station'\n",
    "station_all = engine.execute('SELECT name, station, latitude,\\\n",
    "                                    longitude, elevation\\\n",
    "                                    FROM Station;').fetchall()\n",
    "\n",
    "# Make station_all a pd DataFrame\n",
    "station_all_df = pd.DataFrame(station_all[:], \n",
    "                                    columns=['Station Name', 'Station Code',\n",
    "                                             'Latitude','Longitude',\n",
    "                                             'Elevation'])\n",
    "# Set station_all_df index to 'Station Name'\n",
    "station_all_df.set_index('Station Name', inplace=True)\n",
    "station_all_df.head(1)"
   ]
  },
  {
   "cell_type": "code",
   "execution_count": 30,
   "metadata": {},
   "outputs": [
    {
     "data": {
      "text/html": [
       "<div>\n",
       "<style scoped>\n",
       "    .dataframe tbody tr th:only-of-type {\n",
       "        vertical-align: middle;\n",
       "    }\n",
       "\n",
       "    .dataframe tbody tr th {\n",
       "        vertical-align: top;\n",
       "    }\n",
       "\n",
       "    .dataframe thead th {\n",
       "        text-align: right;\n",
       "    }\n",
       "</style>\n",
       "<table border=\"1\" class=\"dataframe\">\n",
       "  <thead>\n",
       "    <tr style=\"text-align: right;\">\n",
       "      <th></th>\n",
       "      <th>Avg Temperature</th>\n",
       "      <th>Total Rainfall</th>\n",
       "    </tr>\n",
       "    <tr>\n",
       "      <th>Station Name</th>\n",
       "      <th></th>\n",
       "      <th></th>\n",
       "    </tr>\n",
       "  </thead>\n",
       "  <tbody>\n",
       "    <tr>\n",
       "      <th>HONOLULU OBSERVATORY 702.2, HI US</th>\n",
       "      <td>71.615968</td>\n",
       "      <td>0.047971</td>\n",
       "    </tr>\n",
       "  </tbody>\n",
       "</table>\n",
       "</div>"
      ],
      "text/plain": [
       "                                   Avg Temperature  Total Rainfall\n",
       "Station Name                                                      \n",
       "HONOLULU OBSERVATORY 702.2, HI US        71.615968        0.047971"
      ]
     },
     "execution_count": 30,
     "metadata": {},
     "output_type": "execute_result"
    }
   ],
   "source": [
    "# Group readings by 'Station Name' and find mean temp for each station\n",
    "station_avg_temp_grp = station_readings.groupby(['Station Name']).mean()\n",
    "\n",
    "# Check newly grouped df\n",
    "station_avg_temp_grp.head(1)"
   ]
  },
  {
   "cell_type": "code",
   "execution_count": 31,
   "metadata": {},
   "outputs": [
    {
     "data": {
      "text/html": [
       "<div>\n",
       "<style scoped>\n",
       "    .dataframe tbody tr th:only-of-type {\n",
       "        vertical-align: middle;\n",
       "    }\n",
       "\n",
       "    .dataframe tbody tr th {\n",
       "        vertical-align: top;\n",
       "    }\n",
       "\n",
       "    .dataframe thead th {\n",
       "        text-align: right;\n",
       "    }\n",
       "</style>\n",
       "<table border=\"1\" class=\"dataframe\">\n",
       "  <thead>\n",
       "    <tr style=\"text-align: right;\">\n",
       "      <th></th>\n",
       "      <th>Avg Temperature</th>\n",
       "      <th>Total Rainfall</th>\n",
       "      <th>Station Code</th>\n",
       "      <th>Latitude</th>\n",
       "      <th>Longitude</th>\n",
       "      <th>Elevation</th>\n",
       "    </tr>\n",
       "    <tr>\n",
       "      <th>Station Name</th>\n",
       "      <th></th>\n",
       "      <th></th>\n",
       "      <th></th>\n",
       "      <th></th>\n",
       "      <th></th>\n",
       "      <th></th>\n",
       "    </tr>\n",
       "  </thead>\n",
       "  <tbody>\n",
       "    <tr>\n",
       "      <th>HONOLULU OBSERVATORY 702.2, HI US</th>\n",
       "      <td>71.615968</td>\n",
       "      <td>0.047971</td>\n",
       "      <td>USC00511918</td>\n",
       "      <td>21.3152</td>\n",
       "      <td>-157.9992</td>\n",
       "      <td>0.9</td>\n",
       "    </tr>\n",
       "  </tbody>\n",
       "</table>\n",
       "</div>"
      ],
      "text/plain": [
       "                                   Avg Temperature  Total Rainfall  \\\n",
       "Station Name                                                         \n",
       "HONOLULU OBSERVATORY 702.2, HI US        71.615968        0.047971   \n",
       "\n",
       "                                  Station Code  Latitude  Longitude  Elevation  \n",
       "Station Name                                                                    \n",
       "HONOLULU OBSERVATORY 702.2, HI US  USC00511918   21.3152  -157.9992        0.9  "
      ]
     },
     "execution_count": 31,
     "metadata": {},
     "output_type": "execute_result"
    }
   ],
   "source": [
    "# Join station_readings_grp with station_name_num_df\n",
    "station_readings_code = station_avg_temp_grp.join(station_all_df,on='Station Name')\n",
    "\n",
    "# Check newly joined df\n",
    "station_readings_code.head(1)"
   ]
  },
  {
   "cell_type": "code",
   "execution_count": 32,
   "metadata": {},
   "outputs": [
    {
     "data": {
      "text/html": [
       "<div>\n",
       "<style scoped>\n",
       "    .dataframe tbody tr th:only-of-type {\n",
       "        vertical-align: middle;\n",
       "    }\n",
       "\n",
       "    .dataframe tbody tr th {\n",
       "        vertical-align: top;\n",
       "    }\n",
       "\n",
       "    .dataframe thead th {\n",
       "        text-align: right;\n",
       "    }\n",
       "</style>\n",
       "<table border=\"1\" class=\"dataframe\">\n",
       "  <thead>\n",
       "    <tr style=\"text-align: right;\">\n",
       "      <th></th>\n",
       "      <th>Avg Temperature</th>\n",
       "    </tr>\n",
       "    <tr>\n",
       "      <th>Station Name</th>\n",
       "      <th></th>\n",
       "    </tr>\n",
       "  </thead>\n",
       "  <tbody>\n",
       "    <tr>\n",
       "      <th>HONOLULU OBSERVATORY 702.2, HI US</th>\n",
       "      <td>71.615968</td>\n",
       "    </tr>\n",
       "  </tbody>\n",
       "</table>\n",
       "</div>"
      ],
      "text/plain": [
       "                                   Avg Temperature\n",
       "Station Name                                      \n",
       "HONOLULU OBSERVATORY 702.2, HI US        71.615968"
      ]
     },
     "execution_count": 32,
     "metadata": {},
     "output_type": "execute_result"
    }
   ],
   "source": [
    "# Drop 'Avg Temperature' and 'Total Rainfall' column\n",
    "station_readings_code.drop(labels=['Total Rainfall', 'Station Code',\n",
    "                                      'Latitude', 'Longitude',\n",
    "                                      'Elevation'], axis=1, inplace=True)\n",
    "\n",
    "station_readings_code.head(1)"
   ]
  },
  {
   "cell_type": "code",
   "execution_count": 33,
   "metadata": {
    "scrolled": true
   },
   "outputs": [
    {
     "name": "stdout",
     "output_type": "stream",
     "text": [
      "WAIHEE 837.5, HI US is the station with the most temperature  readings at a total of 2772 readings and an average temperature reading of 71.66378066378067 F.\n"
     ]
    },
    {
     "data": {
      "text/html": [
       "<div>\n",
       "<style scoped>\n",
       "    .dataframe tbody tr th:only-of-type {\n",
       "        vertical-align: middle;\n",
       "    }\n",
       "\n",
       "    .dataframe tbody tr th {\n",
       "        vertical-align: top;\n",
       "    }\n",
       "\n",
       "    .dataframe thead th {\n",
       "        text-align: right;\n",
       "    }\n",
       "</style>\n",
       "<table border=\"1\" class=\"dataframe\">\n",
       "  <thead>\n",
       "    <tr style=\"text-align: right;\">\n",
       "      <th></th>\n",
       "      <th>Station Name</th>\n",
       "      <th>Avg Temperature</th>\n",
       "      <th>Total Readings</th>\n",
       "    </tr>\n",
       "  </thead>\n",
       "  <tbody>\n",
       "    <tr>\n",
       "      <th>0</th>\n",
       "      <td>WAIHEE 837.5, HI US</td>\n",
       "      <td>71.663781</td>\n",
       "      <td>2772</td>\n",
       "    </tr>\n",
       "    <tr>\n",
       "      <th>1</th>\n",
       "      <td>WAIKIKI 717.2, HI US</td>\n",
       "      <td>74.553231</td>\n",
       "      <td>2724</td>\n",
       "    </tr>\n",
       "    <tr>\n",
       "      <th>2</th>\n",
       "      <td>KANEOHE 838.1, HI US</td>\n",
       "      <td>72.689184</td>\n",
       "      <td>2709</td>\n",
       "    </tr>\n",
       "    <tr>\n",
       "      <th>3</th>\n",
       "      <td>WAIMANALO EXPERIMENTAL FARM, HI US</td>\n",
       "      <td>74.543649</td>\n",
       "      <td>2669</td>\n",
       "    </tr>\n",
       "    <tr>\n",
       "      <th>4</th>\n",
       "      <td>MANOA LYON ARBO 785.2, HI US</td>\n",
       "      <td>70.915008</td>\n",
       "      <td>2612</td>\n",
       "    </tr>\n",
       "    <tr>\n",
       "      <th>5</th>\n",
       "      <td>KUALOA RANCH HEADQUARTERS 886.9, HI US</td>\n",
       "      <td>74.873297</td>\n",
       "      <td>2202</td>\n",
       "    </tr>\n",
       "    <tr>\n",
       "      <th>6</th>\n",
       "      <td>HONOLULU OBSERVATORY 702.2, HI US</td>\n",
       "      <td>71.615968</td>\n",
       "      <td>1979</td>\n",
       "    </tr>\n",
       "    <tr>\n",
       "      <th>7</th>\n",
       "      <td>PEARL CITY, HI US</td>\n",
       "      <td>74.684402</td>\n",
       "      <td>1372</td>\n",
       "    </tr>\n",
       "    <tr>\n",
       "      <th>8</th>\n",
       "      <td>UPPER WAHIAWA 874.3, HI US</td>\n",
       "      <td>72.724070</td>\n",
       "      <td>511</td>\n",
       "    </tr>\n",
       "  </tbody>\n",
       "</table>\n",
       "</div>"
      ],
      "text/plain": [
       "                             Station Name  Avg Temperature  Total Readings\n",
       "0                     WAIHEE 837.5, HI US        71.663781            2772\n",
       "1                    WAIKIKI 717.2, HI US        74.553231            2724\n",
       "2                    KANEOHE 838.1, HI US        72.689184            2709\n",
       "3      WAIMANALO EXPERIMENTAL FARM, HI US        74.543649            2669\n",
       "4            MANOA LYON ARBO 785.2, HI US        70.915008            2612\n",
       "5  KUALOA RANCH HEADQUARTERS 886.9, HI US        74.873297            2202\n",
       "6       HONOLULU OBSERVATORY 702.2, HI US        71.615968            1979\n",
       "7                       PEARL CITY, HI US        74.684402            1372\n",
       "8              UPPER WAHIAWA 874.3, HI US        72.724070             511"
      ]
     },
     "execution_count": 33,
     "metadata": {},
     "output_type": "execute_result"
    }
   ],
   "source": [
    "# Join with 'Total Readings' from df station_readings_grp\n",
    "station_readings_avgTemp = station_readings_code.join(\n",
    "station_readings_grp, on=\"Station Name\").sort_values('Total Readings', ascending=False)\n",
    "\n",
    "# Check newly joined table\n",
    "station_readings_avgTemp.reset_index(inplace=True)\n",
    "\n",
    "# Make variables to find avg temp of satation with most readings\n",
    "most_readings_station = station_readings_avgTemp['Station Name'][0]\n",
    "most_readings_avgTemp = station_readings_avgTemp['Avg Temperature'][0]\n",
    "most_readings_num = station_readings_avgTemp['Total Readings'][0]\n",
    "\n",
    "print(f\"{most_readings_station} is the station with the most temperature  \\\n",
    "readings at a total of {most_readings_num} readings and an \\\n",
    "average temperature reading of {most_readings_avgTemp} F.\")\n",
    "\n",
    "station_readings_avgTemp"
   ]
  },
  {
   "cell_type": "markdown",
   "metadata": {},
   "source": [
    "# Past 12 Months of Temperature data for WAIHEE\n",
    "# Station with highest number of temperature observations"
   ]
  },
  {
   "cell_type": "code",
   "execution_count": 34,
   "metadata": {},
   "outputs": [],
   "source": [
    "# Choose the station with the highest number of temperature observations.\n",
    "# Query the last 12 months of temperature observation data for this station\n",
    "# and plot the results as a histogram"
   ]
  },
  {
   "cell_type": "code",
   "execution_count": 35,
   "metadata": {},
   "outputs": [],
   "source": [
    "# Create query to filter to station Waihee (USC00519281)\n",
    "waihee_temperature = session.query(Measurement.date, Measurement.tobs).\\\n",
    "                    filter(Measurement.station == 'USC00519281').\\\n",
    "                    filter(Measurement.date >= '2010-01-01').\\\n",
    "                    filter(Measurement.date <= '2011-01-01').all()"
   ]
  },
  {
   "cell_type": "code",
   "execution_count": 36,
   "metadata": {},
   "outputs": [
    {
     "data": {
      "text/html": [
       "<div>\n",
       "<style scoped>\n",
       "    .dataframe tbody tr th:only-of-type {\n",
       "        vertical-align: middle;\n",
       "    }\n",
       "\n",
       "    .dataframe tbody tr th {\n",
       "        vertical-align: top;\n",
       "    }\n",
       "\n",
       "    .dataframe thead th {\n",
       "        text-align: right;\n",
       "    }\n",
       "</style>\n",
       "<table border=\"1\" class=\"dataframe\">\n",
       "  <thead>\n",
       "    <tr style=\"text-align: right;\">\n",
       "      <th></th>\n",
       "      <th>Date</th>\n",
       "      <th>Tobs</th>\n",
       "    </tr>\n",
       "  </thead>\n",
       "  <tbody>\n",
       "    <tr>\n",
       "      <th>0</th>\n",
       "      <td>2010-01-01</td>\n",
       "      <td>70.0</td>\n",
       "    </tr>\n",
       "    <tr>\n",
       "      <th>1</th>\n",
       "      <td>2010-01-02</td>\n",
       "      <td>62.0</td>\n",
       "    </tr>\n",
       "    <tr>\n",
       "      <th>2</th>\n",
       "      <td>2010-01-03</td>\n",
       "      <td>74.0</td>\n",
       "    </tr>\n",
       "    <tr>\n",
       "      <th>3</th>\n",
       "      <td>2010-01-04</td>\n",
       "      <td>75.0</td>\n",
       "    </tr>\n",
       "    <tr>\n",
       "      <th>4</th>\n",
       "      <td>2010-01-05</td>\n",
       "      <td>74.0</td>\n",
       "    </tr>\n",
       "  </tbody>\n",
       "</table>\n",
       "</div>"
      ],
      "text/plain": [
       "         Date  Tobs\n",
       "0  2010-01-01  70.0\n",
       "1  2010-01-02  62.0\n",
       "2  2010-01-03  74.0\n",
       "3  2010-01-04  75.0\n",
       "4  2010-01-05  74.0"
      ]
     },
     "execution_count": 36,
     "metadata": {},
     "output_type": "execute_result"
    }
   ],
   "source": [
    "# Create pd DataFrame of waihee_temperature\n",
    "waihee_temp_df = pd.DataFrame(waihee_temperature[:],\n",
    "                             columns=['Date', 'Tobs'])\n",
    "\n",
    "waihee_temp_df.head()"
   ]
  },
  {
   "cell_type": "code",
   "execution_count": 37,
   "metadata": {},
   "outputs": [],
   "source": [
    "# Group waihee_temp_df by count of temperature readings\n",
    "# waihee_temp_grp = waihee_temp_df.groupby('Temperature').count()\n",
    "# waihee_temp_grp.rename(columns={'Date': 'tobs'}, inplace=True)\n",
    "# waihee_temp_grp"
   ]
  },
  {
   "cell_type": "code",
   "execution_count": 38,
   "metadata": {},
   "outputs": [
    {
     "data": {
      "text/html": [
       "<div>\n",
       "<style scoped>\n",
       "    .dataframe tbody tr th:only-of-type {\n",
       "        vertical-align: middle;\n",
       "    }\n",
       "\n",
       "    .dataframe tbody tr th {\n",
       "        vertical-align: top;\n",
       "    }\n",
       "\n",
       "    .dataframe thead th {\n",
       "        text-align: right;\n",
       "    }\n",
       "</style>\n",
       "<table border=\"1\" class=\"dataframe\">\n",
       "  <thead>\n",
       "    <tr style=\"text-align: right;\">\n",
       "      <th></th>\n",
       "      <th>Temp Groups</th>\n",
       "      <th>Tobs</th>\n",
       "    </tr>\n",
       "  </thead>\n",
       "  <tbody>\n",
       "    <tr>\n",
       "      <th>0</th>\n",
       "      <td>(0, 59]</td>\n",
       "      <td>1</td>\n",
       "    </tr>\n",
       "    <tr>\n",
       "      <th>1</th>\n",
       "      <td>(59, 61]</td>\n",
       "      <td>8</td>\n",
       "    </tr>\n",
       "    <tr>\n",
       "      <th>2</th>\n",
       "      <td>(61, 63]</td>\n",
       "      <td>4</td>\n",
       "    </tr>\n",
       "    <tr>\n",
       "      <th>3</th>\n",
       "      <td>(63, 65]</td>\n",
       "      <td>20</td>\n",
       "    </tr>\n",
       "    <tr>\n",
       "      <th>4</th>\n",
       "      <td>(65, 67]</td>\n",
       "      <td>22</td>\n",
       "    </tr>\n",
       "    <tr>\n",
       "      <th>5</th>\n",
       "      <td>(67, 69]</td>\n",
       "      <td>52</td>\n",
       "    </tr>\n",
       "    <tr>\n",
       "      <th>6</th>\n",
       "      <td>(69, 71]</td>\n",
       "      <td>70</td>\n",
       "    </tr>\n",
       "    <tr>\n",
       "      <th>7</th>\n",
       "      <td>(71, 73]</td>\n",
       "      <td>78</td>\n",
       "    </tr>\n",
       "    <tr>\n",
       "      <th>8</th>\n",
       "      <td>(73, 75]</td>\n",
       "      <td>61</td>\n",
       "    </tr>\n",
       "    <tr>\n",
       "      <th>9</th>\n",
       "      <td>(75, 77]</td>\n",
       "      <td>31</td>\n",
       "    </tr>\n",
       "    <tr>\n",
       "      <th>10</th>\n",
       "      <td>(77, 79]</td>\n",
       "      <td>13</td>\n",
       "    </tr>\n",
       "    <tr>\n",
       "      <th>11</th>\n",
       "      <td>(79, 81]</td>\n",
       "      <td>4</td>\n",
       "    </tr>\n",
       "  </tbody>\n",
       "</table>\n",
       "</div>"
      ],
      "text/plain": [
       "   Temp Groups  Tobs\n",
       "0      (0, 59]     1\n",
       "1     (59, 61]     8\n",
       "2     (61, 63]     4\n",
       "3     (63, 65]    20\n",
       "4     (65, 67]    22\n",
       "5     (67, 69]    52\n",
       "6     (69, 71]    70\n",
       "7     (71, 73]    78\n",
       "8     (73, 75]    61\n",
       "9     (75, 77]    31\n",
       "10    (77, 79]    13\n",
       "11    (79, 81]     4"
      ]
     },
     "execution_count": 38,
     "metadata": {},
     "output_type": "execute_result"
    }
   ],
   "source": [
    "# Create bins for temperature groups\n",
    "bins = [0, 59, 61, 63, 65, 67, 69, 71, 73, 75, 77, 79, 81]\n",
    "\n",
    "waihee_temp_df['Temp Groups'] = pd.cut(waihee_temp_df['Tobs'], bins)\n",
    "waihee_temp_grp = waihee_temp_df.groupby('Temp Groups').count()\n",
    "waihee_temp_grp.drop(labels='Date', axis=1, inplace=True)\n",
    "waihee_temp_grp.reset_index(inplace=True)\n",
    "waihee_temp_grp"
   ]
  },
  {
   "cell_type": "code",
   "execution_count": 39,
   "metadata": {},
   "outputs": [
    {
     "data": {
      "text/plain": [
       "Text(0, 0.5, 'Frequency')"
      ]
     },
     "execution_count": 39,
     "metadata": {},
     "output_type": "execute_result"
    },
    {
     "data": {
      "image/png": "[encoded data removed]",
      "text/plain": [
       "<Figure size 432x288 with 1 Axes>"
      ]
     },
     "metadata": {
      "needs_background": "light"
     },
     "output_type": "display_data"
    }
   ],
   "source": [
    "waihee_temp_grp.plot(kind='bar',sharex=False)\n",
    "plt.ylabel('Frequency')"
   ]
  },
  {
   "cell_type": "code",
   "execution_count": 40,
   "metadata": {},
   "outputs": [
    {
     "name": "stdout",
     "output_type": "stream",
     "text": [
      "[(62.0, 69.57142857142857, 74.0)]\n"
     ]
    }
   ],
   "source": [
    "# This function called `calc_temps` will accept start date and end date in the format '%Y-%m-%d' \n",
    "# and return the minimum, average, and maximum temperatures for that range of dates\n",
    "def calc_temps(start_date, end_date):\n",
    "    \"\"\"TMIN, TAVG, and TMAX for a list of dates.\n",
    "    \n",
    "    Args:\n",
    "        start_date (string): A date string in the format %Y-%m-%d\n",
    "        end_date (string): A date string in the format %Y-%m-%d\n",
    "        \n",
    "    Returns:\n",
    "        TMIN, TAVE, and TMAX\n",
    "    \"\"\"\n",
    "    \n",
    "    return session.query(func.min(Measurement.tobs), func.avg(Measurement.tobs), func.max(Measurement.tobs)).\\\n",
    "        filter(Measurement.date >= start_date).filter(Measurement.date <= end_date).all()\n",
    "\n",
    "# function usage example\n",
    "print(calc_temps('2012-02-28', '2012-03-05'))"
   ]
  },
  {
   "cell_type": "code",
   "execution_count": 41,
   "metadata": {},
   "outputs": [
    {
     "name": "stdout",
     "output_type": "stream",
     "text": [
      "[(56.0, 72.49480472948764, 87.0)]\n"
     ]
    }
   ],
   "source": [
    "# Use your previous function `calc_temps` to calculate the tmin, tavg, and tmax \n",
    "# for your trip using the previous year's data for those same dates.\n",
    "\n",
    "# Previous year dates used: 2010-01-01 to 2011-01-01\n",
    "temp_2010_2011 = calc_temps('2010-01-01','2011-01-01')\n",
    "print(calc_temps('2010-01-01','2011-01-01'))"
   ]
  },
  {
   "cell_type": "code",
   "execution_count": 42,
   "metadata": {},
   "outputs": [
    {
     "data": {
      "text/plain": [
       "<matplotlib.axes._subplots.AxesSubplot at 0x21bddf99908>"
      ]
     },
     "execution_count": 42,
     "metadata": {},
     "output_type": "execute_result"
    },
    {
     "data": {
      "image/png": "[encoded data removed]",
      "text/plain": [
       "<Figure size 432x288 with 1 Axes>"
      ]
     },
     "metadata": {
      "needs_background": "light"
     },
     "output_type": "display_data"
    }
   ],
   "source": [
    "# Plot the results from your previous query as a bar chart. \n",
    "# Use \"Trip Avg Temp\" as your Title\n",
    "# Use the average temperature for the y value\n",
    "# Use the peak-to-peak (tmax-tmin) value as the y error bar (yerr)\n",
    "\n",
    "# Make calc temp result into pd DataFrame\n",
    "calc_temp_2010_2011 = pd.DataFrame(temp_2010_2011[:],\n",
    "                                  columns=['Min Temp',\n",
    "                                           'Avg Temp',\n",
    "                                           'Max Temp'])\n",
    "\n",
    "\n",
    "# Plot calc_temp_2010_2011 as bar chart\n",
    "min_temp = calc_temp_2010_2011['Min Temp'][0]\n",
    "max_temp = calc_temp_2010_2011['Max Temp'][0]\n",
    "calc_temp_2010_2011['Avg Temp'].plot(kind='bar', title=\"Trip Avg Temp\",\n",
    "                                    yerr=max_temp-min_temp)"
   ]
  },
  {
   "cell_type": "code",
   "execution_count": 43,
   "metadata": {},
   "outputs": [
    {
     "data": {
      "text/html": [
       "<div>\n",
       "<style scoped>\n",
       "    .dataframe tbody tr th:only-of-type {\n",
       "        vertical-align: middle;\n",
       "    }\n",
       "\n",
       "    .dataframe tbody tr th {\n",
       "        vertical-align: top;\n",
       "    }\n",
       "\n",
       "    .dataframe thead th {\n",
       "        text-align: right;\n",
       "    }\n",
       "</style>\n",
       "<table border=\"1\" class=\"dataframe\">\n",
       "  <thead>\n",
       "    <tr style=\"text-align: right;\">\n",
       "      <th></th>\n",
       "      <th>Total Rainfall</th>\n",
       "    </tr>\n",
       "    <tr>\n",
       "      <th>Station Name</th>\n",
       "      <th></th>\n",
       "    </tr>\n",
       "  </thead>\n",
       "  <tbody>\n",
       "    <tr>\n",
       "      <th>MANOA LYON ARBO 785.2, HI US</th>\n",
       "      <td>1068.09</td>\n",
       "    </tr>\n",
       "    <tr>\n",
       "      <th>WAIHEE 837.5, HI US</th>\n",
       "      <td>588.64</td>\n",
       "    </tr>\n",
       "    <tr>\n",
       "      <th>KANEOHE 838.1, HI US</th>\n",
       "      <td>382.62</td>\n",
       "    </tr>\n",
       "    <tr>\n",
       "      <th>WAIMANALO EXPERIMENTAL FARM, HI US</th>\n",
       "      <td>295.68</td>\n",
       "    </tr>\n",
       "    <tr>\n",
       "      <th>KUALOA RANCH HEADQUARTERS 886.9, HI US</th>\n",
       "      <td>234.49</td>\n",
       "    </tr>\n",
       "    <tr>\n",
       "      <th>WAIKIKI 717.2, HI US</th>\n",
       "      <td>131.62</td>\n",
       "    </tr>\n",
       "    <tr>\n",
       "      <th>HONOLULU OBSERVATORY 702.2, HI US</th>\n",
       "      <td>92.68</td>\n",
       "    </tr>\n",
       "    <tr>\n",
       "      <th>UPPER WAHIAWA 874.3, HI US</th>\n",
       "      <td>70.87</td>\n",
       "    </tr>\n",
       "    <tr>\n",
       "      <th>PEARL CITY, HI US</th>\n",
       "      <td>43.44</td>\n",
       "    </tr>\n",
       "  </tbody>\n",
       "</table>\n",
       "</div>"
      ],
      "text/plain": [
       "                                        Total Rainfall\n",
       "Station Name                                          \n",
       "MANOA LYON ARBO 785.2, HI US                   1068.09\n",
       "WAIHEE 837.5, HI US                             588.64\n",
       "KANEOHE 838.1, HI US                            382.62\n",
       "WAIMANALO EXPERIMENTAL FARM, HI US              295.68\n",
       "KUALOA RANCH HEADQUARTERS 886.9, HI US          234.49\n",
       "WAIKIKI 717.2, HI US                            131.62\n",
       "HONOLULU OBSERVATORY 702.2, HI US                92.68\n",
       "UPPER WAHIAWA 874.3, HI US                       70.87\n",
       "PEARL CITY, HI US                                43.44"
      ]
     },
     "execution_count": 43,
     "metadata": {},
     "output_type": "execute_result"
    }
   ],
   "source": [
    "# Calculate the rainfall per weather station for your trip dates \n",
    "# using the previous year's matching dates.\n",
    "# Sort this in descending order by precipitation amount and \n",
    "# list the station, name, latitude, longitude, and elevation\n",
    "\n",
    "# Group readings by 'Station Name' and sort by 'Total Readings'\n",
    "station_prcp_total = station_readings.groupby(['Station Name']).sum().\\\n",
    "                        sort_values(by='Total Rainfall', ascending=False)\n",
    "\n",
    "# Drop 'Avg Temperature'column\n",
    "station_prcp_total.drop(labels=['Avg Temperature'], axis=1, inplace=True)\n",
    "\n",
    "station_prcp_total"
   ]
  },
  {
   "cell_type": "code",
   "execution_count": 44,
   "metadata": {},
   "outputs": [
    {
     "data": {
      "text/html": [
       "<div>\n",
       "<style scoped>\n",
       "    .dataframe tbody tr th:only-of-type {\n",
       "        vertical-align: middle;\n",
       "    }\n",
       "\n",
       "    .dataframe tbody tr th {\n",
       "        vertical-align: top;\n",
       "    }\n",
       "\n",
       "    .dataframe thead th {\n",
       "        text-align: right;\n",
       "    }\n",
       "</style>\n",
       "<table border=\"1\" class=\"dataframe\">\n",
       "  <thead>\n",
       "    <tr style=\"text-align: right;\">\n",
       "      <th></th>\n",
       "      <th>Station Code</th>\n",
       "      <th>Latitude</th>\n",
       "      <th>Longitude</th>\n",
       "      <th>Elevation</th>\n",
       "    </tr>\n",
       "    <tr>\n",
       "      <th>Station Name</th>\n",
       "      <th></th>\n",
       "      <th></th>\n",
       "      <th></th>\n",
       "      <th></th>\n",
       "    </tr>\n",
       "  </thead>\n",
       "  <tbody>\n",
       "    <tr>\n",
       "      <th>WAIKIKI 717.2, HI US</th>\n",
       "      <td>USC00519397</td>\n",
       "      <td>21.27160</td>\n",
       "      <td>-157.81680</td>\n",
       "      <td>3.0</td>\n",
       "    </tr>\n",
       "    <tr>\n",
       "      <th>KANEOHE 838.1, HI US</th>\n",
       "      <td>USC00513117</td>\n",
       "      <td>21.42340</td>\n",
       "      <td>-157.80150</td>\n",
       "      <td>14.6</td>\n",
       "    </tr>\n",
       "    <tr>\n",
       "      <th>KUALOA RANCH HEADQUARTERS 886.9, HI US</th>\n",
       "      <td>USC00514830</td>\n",
       "      <td>21.52130</td>\n",
       "      <td>-157.83740</td>\n",
       "      <td>7.0</td>\n",
       "    </tr>\n",
       "    <tr>\n",
       "      <th>PEARL CITY, HI US</th>\n",
       "      <td>USC00517948</td>\n",
       "      <td>21.39340</td>\n",
       "      <td>-157.97510</td>\n",
       "      <td>11.9</td>\n",
       "    </tr>\n",
       "    <tr>\n",
       "      <th>UPPER WAHIAWA 874.3, HI US</th>\n",
       "      <td>USC00518838</td>\n",
       "      <td>21.49920</td>\n",
       "      <td>-158.01110</td>\n",
       "      <td>306.6</td>\n",
       "    </tr>\n",
       "    <tr>\n",
       "      <th>WAIMANALO EXPERIMENTAL FARM, HI US</th>\n",
       "      <td>USC00519523</td>\n",
       "      <td>21.33556</td>\n",
       "      <td>-157.71139</td>\n",
       "      <td>19.5</td>\n",
       "    </tr>\n",
       "    <tr>\n",
       "      <th>WAIHEE 837.5, HI US</th>\n",
       "      <td>USC00519281</td>\n",
       "      <td>21.45167</td>\n",
       "      <td>-157.84889</td>\n",
       "      <td>32.9</td>\n",
       "    </tr>\n",
       "    <tr>\n",
       "      <th>HONOLULU OBSERVATORY 702.2, HI US</th>\n",
       "      <td>USC00511918</td>\n",
       "      <td>21.31520</td>\n",
       "      <td>-157.99920</td>\n",
       "      <td>0.9</td>\n",
       "    </tr>\n",
       "    <tr>\n",
       "      <th>MANOA LYON ARBO 785.2, HI US</th>\n",
       "      <td>USC00516128</td>\n",
       "      <td>21.33310</td>\n",
       "      <td>-157.80250</td>\n",
       "      <td>152.4</td>\n",
       "    </tr>\n",
       "  </tbody>\n",
       "</table>\n",
       "</div>"
      ],
      "text/plain": [
       "                                       Station Code  Latitude  Longitude  \\\n",
       "Station Name                                                               \n",
       "WAIKIKI 717.2, HI US                    USC00519397  21.27160 -157.81680   \n",
       "KANEOHE 838.1, HI US                    USC00513117  21.42340 -157.80150   \n",
       "KUALOA RANCH HEADQUARTERS 886.9, HI US  USC00514830  21.52130 -157.83740   \n",
       "PEARL CITY, HI US                       USC00517948  21.39340 -157.97510   \n",
       "UPPER WAHIAWA 874.3, HI US              USC00518838  21.49920 -158.01110   \n",
       "WAIMANALO EXPERIMENTAL FARM, HI US      USC00519523  21.33556 -157.71139   \n",
       "WAIHEE 837.5, HI US                     USC00519281  21.45167 -157.84889   \n",
       "HONOLULU OBSERVATORY 702.2, HI US       USC00511918  21.31520 -157.99920   \n",
       "MANOA LYON ARBO 785.2, HI US            USC00516128  21.33310 -157.80250   \n",
       "\n",
       "                                        Elevation  \n",
       "Station Name                                       \n",
       "WAIKIKI 717.2, HI US                          3.0  \n",
       "KANEOHE 838.1, HI US                         14.6  \n",
       "KUALOA RANCH HEADQUARTERS 886.9, HI US        7.0  \n",
       "PEARL CITY, HI US                            11.9  \n",
       "UPPER WAHIAWA 874.3, HI US                  306.6  \n",
       "WAIMANALO EXPERIMENTAL FARM, HI US           19.5  \n",
       "WAIHEE 837.5, HI US                          32.9  \n",
       "HONOLULU OBSERVATORY 702.2, HI US             0.9  \n",
       "MANOA LYON ARBO 785.2, HI US                152.4  "
      ]
     },
     "execution_count": 44,
     "metadata": {},
     "output_type": "execute_result"
    }
   ],
   "source": [
    "station_all_df\n"
   ]
  },
  {
   "cell_type": "code",
   "execution_count": 45,
   "metadata": {},
   "outputs": [
    {
     "data": {
      "text/html": [
       "<div>\n",
       "<style scoped>\n",
       "    .dataframe tbody tr th:only-of-type {\n",
       "        vertical-align: middle;\n",
       "    }\n",
       "\n",
       "    .dataframe tbody tr th {\n",
       "        vertical-align: top;\n",
       "    }\n",
       "\n",
       "    .dataframe thead th {\n",
       "        text-align: right;\n",
       "    }\n",
       "</style>\n",
       "<table border=\"1\" class=\"dataframe\">\n",
       "  <thead>\n",
       "    <tr style=\"text-align: right;\">\n",
       "      <th></th>\n",
       "      <th>Total Rainfall</th>\n",
       "      <th>Station Code</th>\n",
       "      <th>Latitude</th>\n",
       "      <th>Longitude</th>\n",
       "      <th>Elevation</th>\n",
       "    </tr>\n",
       "    <tr>\n",
       "      <th>Station Name</th>\n",
       "      <th></th>\n",
       "      <th></th>\n",
       "      <th></th>\n",
       "      <th></th>\n",
       "      <th></th>\n",
       "    </tr>\n",
       "  </thead>\n",
       "  <tbody>\n",
       "    <tr>\n",
       "      <th>MANOA LYON ARBO 785.2, HI US</th>\n",
       "      <td>1068.09</td>\n",
       "      <td>USC00516128</td>\n",
       "      <td>21.33310</td>\n",
       "      <td>-157.80250</td>\n",
       "      <td>152.4</td>\n",
       "    </tr>\n",
       "    <tr>\n",
       "      <th>WAIHEE 837.5, HI US</th>\n",
       "      <td>588.64</td>\n",
       "      <td>USC00519281</td>\n",
       "      <td>21.45167</td>\n",
       "      <td>-157.84889</td>\n",
       "      <td>32.9</td>\n",
       "    </tr>\n",
       "    <tr>\n",
       "      <th>KANEOHE 838.1, HI US</th>\n",
       "      <td>382.62</td>\n",
       "      <td>USC00513117</td>\n",
       "      <td>21.42340</td>\n",
       "      <td>-157.80150</td>\n",
       "      <td>14.6</td>\n",
       "    </tr>\n",
       "    <tr>\n",
       "      <th>WAIMANALO EXPERIMENTAL FARM, HI US</th>\n",
       "      <td>295.68</td>\n",
       "      <td>USC00519523</td>\n",
       "      <td>21.33556</td>\n",
       "      <td>-157.71139</td>\n",
       "      <td>19.5</td>\n",
       "    </tr>\n",
       "    <tr>\n",
       "      <th>KUALOA RANCH HEADQUARTERS 886.9, HI US</th>\n",
       "      <td>234.49</td>\n",
       "      <td>USC00514830</td>\n",
       "      <td>21.52130</td>\n",
       "      <td>-157.83740</td>\n",
       "      <td>7.0</td>\n",
       "    </tr>\n",
       "    <tr>\n",
       "      <th>WAIKIKI 717.2, HI US</th>\n",
       "      <td>131.62</td>\n",
       "      <td>USC00519397</td>\n",
       "      <td>21.27160</td>\n",
       "      <td>-157.81680</td>\n",
       "      <td>3.0</td>\n",
       "    </tr>\n",
       "    <tr>\n",
       "      <th>HONOLULU OBSERVATORY 702.2, HI US</th>\n",
       "      <td>92.68</td>\n",
       "      <td>USC00511918</td>\n",
       "      <td>21.31520</td>\n",
       "      <td>-157.99920</td>\n",
       "      <td>0.9</td>\n",
       "    </tr>\n",
       "    <tr>\n",
       "      <th>UPPER WAHIAWA 874.3, HI US</th>\n",
       "      <td>70.87</td>\n",
       "      <td>USC00518838</td>\n",
       "      <td>21.49920</td>\n",
       "      <td>-158.01110</td>\n",
       "      <td>306.6</td>\n",
       "    </tr>\n",
       "    <tr>\n",
       "      <th>PEARL CITY, HI US</th>\n",
       "      <td>43.44</td>\n",
       "      <td>USC00517948</td>\n",
       "      <td>21.39340</td>\n",
       "      <td>-157.97510</td>\n",
       "      <td>11.9</td>\n",
       "    </tr>\n",
       "  </tbody>\n",
       "</table>\n",
       "</div>"
      ],
      "text/plain": [
       "                                        Total Rainfall Station Code  Latitude  \\\n",
       "Station Name                                                                    \n",
       "MANOA LYON ARBO 785.2, HI US                   1068.09  USC00516128  21.33310   \n",
       "WAIHEE 837.5, HI US                             588.64  USC00519281  21.45167   \n",
       "KANEOHE 838.1, HI US                            382.62  USC00513117  21.42340   \n",
       "WAIMANALO EXPERIMENTAL FARM, HI US              295.68  USC00519523  21.33556   \n",
       "KUALOA RANCH HEADQUARTERS 886.9, HI US          234.49  USC00514830  21.52130   \n",
       "WAIKIKI 717.2, HI US                            131.62  USC00519397  21.27160   \n",
       "HONOLULU OBSERVATORY 702.2, HI US                92.68  USC00511918  21.31520   \n",
       "UPPER WAHIAWA 874.3, HI US                       70.87  USC00518838  21.49920   \n",
       "PEARL CITY, HI US                                43.44  USC00517948  21.39340   \n",
       "\n",
       "                                        Longitude  Elevation  \n",
       "Station Name                                                  \n",
       "MANOA LYON ARBO 785.2, HI US           -157.80250      152.4  \n",
       "WAIHEE 837.5, HI US                    -157.84889       32.9  \n",
       "KANEOHE 838.1, HI US                   -157.80150       14.6  \n",
       "WAIMANALO EXPERIMENTAL FARM, HI US     -157.71139       19.5  \n",
       "KUALOA RANCH HEADQUARTERS 886.9, HI US -157.83740        7.0  \n",
       "WAIKIKI 717.2, HI US                   -157.81680        3.0  \n",
       "HONOLULU OBSERVATORY 702.2, HI US      -157.99920        0.9  \n",
       "UPPER WAHIAWA 874.3, HI US             -158.01110      306.6  \n",
       "PEARL CITY, HI US                      -157.97510       11.9  "
      ]
     },
     "execution_count": 45,
     "metadata": {},
     "output_type": "execute_result"
    }
   ],
   "source": [
    "# Join 'station_prcp_total' with info from 'Station'\n",
    "station_rainfall_combo = station_prcp_total.join(station_all_df, on='Station Name', how='outer')\n",
    "\n",
    "station_rainfall_combo"
   ]
  },
  {
   "cell_type": "code",
   "execution_count": null,
   "metadata": {},
   "outputs": [],
   "source": []
  }
 ],
 "metadata": {
  "kernel_info": {
   "name": "python3"
  },
  "kernelspec": {
   "display_name": "Python 3",
   "language": "python",
   "name": "python3"
  },
  "language_info": {
   "codemirror_mode": {
    "name": "ipython",
    "version": 3
   },
   "file_extension": ".py",
   "mimetype": "text/x-python",
   "name": "python",
   "nbconvert_exporter": "python",
   "pygments_lexer": "ipython3",
   "version": "3.7.0"
  },
  "nteract": {
   "version": "0.9.1"
  },
  "varInspector": {
   "cols": {
    "lenName": 16,
    "lenType": 16,
    "lenVar": 40
   },
   "kernels_config": {
    "python": {
     "delete_cmd_postfix": "",
     "delete_cmd_prefix": "del ",
     "library": "var_list.py",
     "varRefreshCmd": "print(var_dic_list())"
    },
    "r": {
     "delete_cmd_postfix": ") ",
     "delete_cmd_prefix": "rm(",
     "library": "var_list.r",
     "varRefreshCmd": "cat(var_dic_list()) "
    }
   },
   "types_to_exclude": [
    "module",
    "function",
    "builtin_function_or_method",
    "instance",
    "_Feature"
   ],
   "window_display": false
  }
 },
 "nbformat": 4,
 "nbformat_minor": 2
}
