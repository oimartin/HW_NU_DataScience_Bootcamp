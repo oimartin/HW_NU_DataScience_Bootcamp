{
 "cells": [
  {
   "cell_type": "code",
   "execution_count": 1,
   "metadata": {
    "scrolled": true
   },
   "outputs": [],
   "source": [
    "# Option 2: Academy of Py\n",
    "# Analyze the district-wide standardized test results\n",
    "# Aggregate the data to and showcase \n",
    "#  obvious trends in school performance.\n",
    "\n",
    "\n",
    "# Import pandas, numpy and the csv files\n",
    "import pandas as pd\n",
    "import numpy as np\n",
    "\n",
    "schools_file = \"schools_complete.csv\"\n",
    "student_file = \"students_complete.csv\"\n",
    "\n",
    "school_data = pd.read_csv(schools_file, encoding=\"ISO-8859-1\")\n",
    "student_data = pd.read_csv(student_file, encoding=\"ISO-8859-1\")\n",
    "\n",
    "school_student_data = pd.merge(student_data, school_data, how=\"left\", \n",
    "                                on=[\"school_name\", \"school_name\"])\n"
   ]
  },
  {
   "cell_type": "code",
   "execution_count": 2,
   "metadata": {},
   "outputs": [],
   "source": [
    "# District summary of key metrics\n",
    "\n",
    "# Total schools count is how many rows are in school_data df\n",
    "total_schools = school_data['school_name'].count()\n",
    "\n",
    "# Total students count is how many rows are in student_data df\n",
    "total_students = student_data['student_name'].count()\n",
    "\n",
    "# Find sum of budget by adding 'budget' columns together\n",
    "total_budget = school_data['budget'].sum()\n",
    "\n",
    "# Create shortened variables for math and reading score columns\n",
    "math_score = school_student_data['math_score']\n",
    "reading_score = school_student_data['reading_score']\n",
    "\n",
    "# Find average of math and reading scores\n",
    "average_math = math_score.mean()\n",
    "average_reading = reading_score.mean()\n",
    "\n",
    "# % of Students with math score greater or equal to 70\n",
    "more_70_math = math_score[math_score>=70].count()\n",
    "pass_math_per = (more_70_math / total_students)*100\n",
    "\n",
    "# % of Students with reading score greater or equal to 70\n",
    "\n",
    "more_70_reading = reading_score[reading_score>=70].count()\n",
    "pass_reading_per = (more_70_reading / total_students)*100\n",
    "\n",
    "# Overall passing rate (math and reading passing rates)\n",
    "overall_pass = (pass_math_per + pass_reading_per)/2\n",
    "\n",
    "# Creating dictionary of new calculations\n",
    "district_summary = [{\"Total Schools\": total_schools, \n",
    "                     \"Total Students\": total_students, \n",
    "                     \"Total Budget\":total_budget, \n",
    "                     \"Average Math Score\": average_math,\n",
    "                     \"Average Reading Score\": average_reading, \n",
    "                     \"% Passing Math\": pass_math_per, \n",
    "                     \"% Passing Reading\": pass_reading_per,\n",
    "                     \"% Overall Passing Rate\": overall_pass}]\n",
    "\n",
    "# Creating dataframe based on district_summary dictionary\n",
    "district_df = pd.DataFrame(district_summary)\n",
    "district_df = district_df[[\"Total Schools\", \"Total Students\",\"Total Budget\",\n",
    "                           \"Average Math Score\", \"Average Reading Score\", \n",
    "                           \"% Passing Math\", \"% Passing Reading\", \n",
    "                           \"% Overall Passing Rate\"]]\n"
   ]
  },
  {
   "cell_type": "code",
   "execution_count": 5,
   "metadata": {},
   "outputs": [],
   "source": [
    "# School summary of key metrics - each school\n",
    "\n",
    "# Drop columns not necessary for summary of each school\n",
    "schools_sum = school_student_data.drop(['Student ID', 'gender', 'grade', \n",
    "                                           'School ID', 'student_name'], axis=1, \n",
    "                                          inplace=False)\n",
    "\n",
    "# Rename headers in preparation to reflect summaries and improve formatting\n",
    "schools_sum = schools_sum.rename(columns={\"size\": \"Total Students\", \n",
    "                                          \"math_score\": \"Average Math Score\", \n",
    "                                          \"reading_score\": \"Average Reading Score\", \n",
    "                                          \"type\": \"School Type\", \n",
    "                                          \"budget\":\"Total School Budget\"})\n",
    "\n",
    "# Create new column to track per student budget \n",
    "schools_sum['Per Student Budget'] = schools_sum['Total School Budget'] / schools_sum['Total Students']\n",
    "\n",
    "# Sort out passing grades (grade >=70) to reflect only passing grades\n",
    "schools_sum['% Passing Reading'] = schools_sum['Average Reading Score'][schools_sum['Average Reading Score']>=70]\n",
    "schools_sum['% Passing Math'] = schools_sum['Average Math Score'][schools_sum['Average Math Score']>=70]\n",
    "\n",
    "######\n",
    "\n",
    "# Group results of schools_sum dataframe by 'school names'\n",
    "schools_grpd = schools_sum.groupby(['school_name'])\n",
    "\n",
    "# Separate grouped data frame to get average scores for reading and math\n",
    "schools_grpd_mean = schools_grpd.mean()\n",
    "\n",
    "# Separate groupded data frame to tally passing grades for reading and math and total students\n",
    "schools_grpd_count = schools_grpd.count()\n",
    "\n",
    "# Separate grouped data frame to preserve the value of the type of school\n",
    "schools_grpd_first = schools_grpd.first()\n",
    "\n",
    "######\n",
    "# Find the percentages of students who passed math and reading per school\n",
    "schools_grpd_count['% Passing Reading'] = (schools_grpd_count['% Passing Reading'] / schools_grpd_count['Total Students'])*100\n",
    "schools_grpd_count['% Passing Math'] = (schools_grpd_count['% Passing Math'] / schools_grpd_count['Total Students'])*100\n",
    "\n",
    "#####\n",
    "# Assembling all the summary information per school in one dataframe\n",
    "\n",
    "# Use 'Total Student' counts\n",
    "schools_full_summary = schools_grpd_count\n",
    "\n",
    "# Use average scores in math and reading\n",
    "schools_full_summary['Average Reading Score'] = schools_grpd_mean['Average Reading Score']\n",
    "schools_full_summary['Average Math Score'] = schools_grpd_mean['Average Math Score']\n",
    "\n",
    "# Use 'Per Student Budget', 'Type', and 'Total Budget' values per school \n",
    "schools_full_summary['Per Student Budget'] = schools_grpd_first['Per Student Budget']\n",
    "schools_full_summary['School Type'] = schools_grpd_first['School Type']\n",
    "schools_full_summary['Total School Budget'] = schools_grpd_first['Total School Budget']\n",
    "\n",
    "# Calculate 'Overall Passing Rate' averaging reading and math passing rates\n",
    "schools_full_summary['% Overall Passing Rate'] = (schools_full_summary['% Passing Reading'] + schools_full_summary['% Passing Math']) / 2\n",
    "\n",
    "# Reorganize columns\n",
    "full_school_summary_org = schools_full_summary[[\"School Type\", \"Total Students\", \"Total School Budget\", \n",
    "                                               \"Per Student Budget\", \"Average Math Score\", \"Average Reading Score\", \n",
    "                                               \"% Passing Math\", \"% Passing Reading\", \"% Overall Passing Rate\"]]\n"
   ]
  },
  {
   "cell_type": "code",
   "execution_count": null,
   "metadata": {},
   "outputs": [],
   "source": [
    "# Bottom 5 performing schools (by overall passing rate)\n",
    "# Same columns to include as above"
   ]
  },
  {
   "cell_type": "code",
   "execution_count": null,
   "metadata": {},
   "outputs": [],
   "source": [
    "# Top 5 performing schools (by overall passing rate)\n",
    "# Same columns to include as above"
   ]
  },
  {
   "cell_type": "code",
   "execution_count": null,
   "metadata": {},
   "outputs": [],
   "source": [
    "# Average math scores by grade for each grade level (9th-12th)\n",
    "# Average reading scores by grade for each grade level (9th-12th)"
   ]
  },
  {
   "cell_type": "code",
   "execution_count": null,
   "metadata": {},
   "outputs": [],
   "source": [
    "# Scores by school spending\n",
    "# School perfomances based on average spending ranges, per student\n",
    "# Use 4 bins to group school spending\n",
    "# Include in table: \"Average Math Score, Average Reading Score, % Passing Math, % Passing Reading, Overall Passing Rate (Average of the above two)\"\n"
   ]
  },
  {
   "cell_type": "code",
   "execution_count": null,
   "metadata": {},
   "outputs": [],
   "source": [
    "# Scores by school size\n",
    "# Same as above, except group by approximation of school size\n",
    "# Small, medium, large\n"
   ]
  },
  {
   "cell_type": "code",
   "execution_count": null,
   "metadata": {},
   "outputs": [],
   "source": [
    "# Scores by school type\n",
    "# Same as above, except gropuby school type (Charter, District)"
   ]
  }
 ],
 "metadata": {
  "kernelspec": {
   "display_name": "Python 3",
   "language": "python",
   "name": "python3"
  },
  "language_info": {
   "codemirror_mode": {
    "name": "ipython",
    "version": 3
   },
   "file_extension": ".py",
   "mimetype": "text/x-python",
   "name": "python",
   "nbconvert_exporter": "python",
   "pygments_lexer": "ipython3",
   "version": "3.7.0"
  }
 },
 "nbformat": 4,
 "nbformat_minor": 2
}
