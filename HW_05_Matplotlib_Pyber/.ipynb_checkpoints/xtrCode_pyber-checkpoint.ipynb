{
 "cells": [
  {
   "cell_type": "code",
   "execution_count": null,
   "metadata": {},
   "outputs": [],
   "source": [
    "# # Record number of rides per city type in new variables\n",
    "# total_rural_rides = total_rides[0]\n",
    "# total_suburban_rides = total_rides[1]\n",
    "# total_urban_rides = total_rides[2]"
   ]
  },
  {
   "cell_type": "code",
   "execution_count": null,
   "metadata": {},
   "outputs": [],
   "source": [
    "# print(f\"Total Rural Rides: {total_rural_rides}\")\n",
    "# print(f\"Total Suburban Rides: {total_suburban_rides}\")\n",
    "# print(f\"Total Urban Rides: {total_urban_rides}\")"
   ]
  },
  {
   "cell_type": "code",
   "execution_count": null,
   "metadata": {},
   "outputs": [],
   "source": [
    "# fig, ax = plt.subplots()\n",
    "# x, y = (total_rides, avg_fare)\n",
    "# scale = driver_count*8\n",
    "# ax.scatter(x,y, c=pyber_sum_df['Type City Color'], s=scale, label=['Urban', 'Suburban', 'Rural'], \n",
    "#            alpha=0.35, edgecolors=\"black\", linewidth=0.8)\n"
   ]
  },
  {
   "cell_type": "code",
   "execution_count": null,
   "metadata": {},
   "outputs": [],
   "source": [
    "type_city_color = type_city.copy()\n",
    "type_city_color = type_city_color.rename(\"Type City Color\")\n",
    "\n",
    "pyber_sum_df['Type City Color'].replace(to_replace={'Urban': 1, 'Suburban': 2, \n",
    "                                                    'Rural': 3}, inplace=True)"
   ]
  },
  {
   "cell_type": "code",
   "execution_count": null,
   "metadata": {},
   "outputs": [],
   "source": [
    "# plt.scatter(total_rides, avg_fare,s=driver_count*8, marker=\"o\", c=pyber_sum_df['Type City Color'], \n",
    "#             edgecolors=\"black\", linewidths=0.8, alpha=0.35)"
   ]
  },
  {
   "cell_type": "code",
   "execution_count": null,
   "metadata": {},
   "outputs": [],
   "source": [
    "# Set x limit for scatter plot based on maximum rides + 50 \n",
    "x_limit = max_rides + 5\n",
    "\n",
    "# Format x_axis, 0 to max_rides + 50\n",
    "x_axis = np.arange(0, x_limit, 5)"
   ]
  },
  {
   "cell_type": "code",
   "execution_count": null,
   "metadata": {},
   "outputs": [],
   "source": [
    "# Put the series into a data frame\n",
    "# pyber_sum_data = [{\"Total Rides\": total_rides, \"Average Fare ($)\": avg_fare,\n",
    "#              \"City Type\": type_city, \"Driver Count\": driver_count,\n",
    "#              \"Driver Count Color Index\": driver_count_color}]"
   ]
  }
 ],
 "metadata": {
  "kernelspec": {
   "display_name": "Python 3",
   "language": "python",
   "name": "python3"
  },
  "language_info": {
   "codemirror_mode": {
    "name": "ipython",
    "version": 3
   },
   "file_extension": ".py",
   "mimetype": "text/x-python",
   "name": "python",
   "nbconvert_exporter": "python",
   "pygments_lexer": "ipython3",
   "version": "3.7.0"
  }
 },
 "nbformat": 4,
 "nbformat_minor": 2
}
